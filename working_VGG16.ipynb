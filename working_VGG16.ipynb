{
 "cells": [
  {
   "cell_type": "code",
   "execution_count": 4,
   "metadata": {
    "collapsed": false
   },
   "outputs": [],
   "source": [
    "import pandas as pd\n",
    "import numpy as np\n",
    "import cv2"
   ]
  },
  {
   "cell_type": "code",
   "execution_count": 5,
   "metadata": {
    "collapsed": false
   },
   "outputs": [
    {
     "name": "stderr",
     "output_type": "stream",
     "text": [
      "Using Theano backend.\n",
      "WARNING (theano.sandbox.cuda): The cuda backend is deprecated and will be removed in the next release (v0.10).  Please switch to the gpuarray backend. You can get more information about how to switch at this URL:\n",
      " https://github.com/Theano/Theano/wiki/Converting-to-the-new-gpu-back-end%28gpuarray%29\n",
      "\n",
      "Using gpu device 0: Tesla K80 (CNMeM is disabled, cuDNN 5103)\n"
     ]
    }
   ],
   "source": [
    "from keras.models import Sequential\n",
    "from keras.layers import Activation, Dropout, Flatten, Dense\n",
    "from keras.preprocessing.image import ImageDataGenerator\n",
    "from keras.layers import Convolution2D, MaxPooling2D, ZeroPadding2D\n",
    "from keras import optimizers\n",
    "from keras import applications\n",
    "from keras.models import Model"
   ]
  },
  {
   "cell_type": "code",
   "execution_count": 6,
   "metadata": {
    "collapsed": true
   },
   "outputs": [],
   "source": [
    "from keras import backend as K"
   ]
  },
  {
   "cell_type": "code",
   "execution_count": 7,
   "metadata": {
    "collapsed": true
   },
   "outputs": [],
   "source": [
    "K.set_image_dim_ordering(\"th\")"
   ]
  },
  {
   "cell_type": "code",
   "execution_count": 8,
   "metadata": {
    "collapsed": true
   },
   "outputs": [],
   "source": [
    "import os\n",
    "import math\n",
    "from keras.utils import np_utils"
   ]
  },
  {
   "cell_type": "code",
   "execution_count": 9,
   "metadata": {
    "collapsed": true
   },
   "outputs": [],
   "source": [
    "path = \"/home/ubuntu/nbs/courses-master/deeplearning1/data/dogscats/sample\""
   ]
  },
  {
   "cell_type": "code",
   "execution_count": 10,
   "metadata": {
    "collapsed": true
   },
   "outputs": [],
   "source": [
    "train_data_dir = path + '/train'\n",
    "validation_data_dir = path + '/valid'"
   ]
  },
  {
   "cell_type": "code",
   "execution_count": 11,
   "metadata": {
    "collapsed": true
   },
   "outputs": [],
   "source": [
    "def fcount(path):    \n",
    "    listOfclasses = [name for name in os.listdir(path)] \n",
    "    return len(listOfclasses),listOfclasses"
   ]
  },
  {
   "cell_type": "code",
   "execution_count": 12,
   "metadata": {
    "collapsed": true
   },
   "outputs": [],
   "source": [
    "train_labels,nameOfClasses = fcount(train_data_dir)\n",
    "validation_labels,nameOfClasses= fcount(validation_data_dir)"
   ]
  },
  {
   "cell_type": "code",
   "execution_count": 13,
   "metadata": {
    "collapsed": false
   },
   "outputs": [
    {
     "name": "stdout",
     "output_type": "stream",
     "text": [
      "2 2\n"
     ]
    }
   ],
   "source": [
    "print train_labels, validation_labels"
   ]
  },
  {
   "cell_type": "code",
   "execution_count": 14,
   "metadata": {
    "collapsed": false
   },
   "outputs": [
    {
     "name": "stdout",
     "output_type": "stream",
     "text": [
      "['dogs', 'cats']\n"
     ]
    }
   ],
   "source": [
    "print nameOfClasses"
   ]
  },
  {
   "cell_type": "code",
   "execution_count": 15,
   "metadata": {
    "collapsed": true
   },
   "outputs": [],
   "source": [
    "def gcd(a, b):\n",
    "    if(a<b):\n",
    "        a,b=b,a\n",
    "    while(b!=0):\n",
    "        r=b\n",
    "        b=a%r\n",
    "        a=r\n",
    "    return a"
   ]
  },
  {
   "cell_type": "code",
   "execution_count": 16,
   "metadata": {
    "collapsed": true
   },
   "outputs": [],
   "source": [
    "datagen = ImageDataGenerator(rescale=1./255.)"
   ]
  },
  {
   "cell_type": "code",
   "execution_count": 17,
   "metadata": {
    "collapsed": true
   },
   "outputs": [],
   "source": [
    "batch_size = 1"
   ]
  },
  {
   "cell_type": "code",
   "execution_count": 18,
   "metadata": {
    "collapsed": true
   },
   "outputs": [],
   "source": [
    "img_width = img_height = 150"
   ]
  },
  {
   "cell_type": "code",
   "execution_count": 19,
   "metadata": {
    "collapsed": false
   },
   "outputs": [
    {
     "name": "stdout",
     "output_type": "stream",
     "text": [
      "Found 14 images belonging to 2 classes.\n",
      "Found 6 images belonging to 2 classes.\n"
     ]
    }
   ],
   "source": [
    "train_generator = datagen.flow_from_directory(train_data_dir,target_size=(img_width,img_height),\n",
    "                                              batch_size=batch_size,shuffle=False,class_mode=None)\n",
    "\n",
    "valid_generator = datagen.flow_from_directory(validation_data_dir,target_size=(img_width,img_height),\n",
    "                                              batch_size=batch_size,shuffle=False,class_mode=None)"
   ]
  },
  {
   "cell_type": "code",
   "execution_count": 20,
   "metadata": {
    "collapsed": true
   },
   "outputs": [],
   "source": [
    "model_vgg = applications.VGG16(include_top=False, weights=\"imagenet\")"
   ]
  },
  {
   "cell_type": "code",
   "execution_count": 21,
   "metadata": {
    "collapsed": false
   },
   "outputs": [
    {
     "name": "stdout",
     "output_type": "stream",
     "text": [
      "_________________________________________________________________\n",
      "Layer (type)                 Output Shape              Param #   \n",
      "=================================================================\n",
      "input_1 (InputLayer)         (None, 3, None, None)     0         \n",
      "_________________________________________________________________\n",
      "block1_conv1 (Conv2D)        (None, 64, None, None)    1792      \n",
      "_________________________________________________________________\n",
      "block1_conv2 (Conv2D)        (None, 64, None, None)    36928     \n",
      "_________________________________________________________________\n",
      "block1_pool (MaxPooling2D)   (None, 64, None, None)    0         \n",
      "_________________________________________________________________\n",
      "block2_conv1 (Conv2D)        (None, 128, None, None)   73856     \n",
      "_________________________________________________________________\n",
      "block2_conv2 (Conv2D)        (None, 128, None, None)   147584    \n",
      "_________________________________________________________________\n",
      "block2_pool (MaxPooling2D)   (None, 128, None, None)   0         \n",
      "_________________________________________________________________\n",
      "block3_conv1 (Conv2D)        (None, 256, None, None)   295168    \n",
      "_________________________________________________________________\n",
      "block3_conv2 (Conv2D)        (None, 256, None, None)   590080    \n",
      "_________________________________________________________________\n",
      "block3_conv3 (Conv2D)        (None, 256, None, None)   590080    \n",
      "_________________________________________________________________\n",
      "block3_pool (MaxPooling2D)   (None, 256, None, None)   0         \n",
      "_________________________________________________________________\n",
      "block4_conv1 (Conv2D)        (None, 512, None, None)   1180160   \n",
      "_________________________________________________________________\n",
      "block4_conv2 (Conv2D)        (None, 512, None, None)   2359808   \n",
      "_________________________________________________________________\n",
      "block4_conv3 (Conv2D)        (None, 512, None, None)   2359808   \n",
      "_________________________________________________________________\n",
      "block4_pool (MaxPooling2D)   (None, 512, None, None)   0         \n",
      "_________________________________________________________________\n",
      "block5_conv1 (Conv2D)        (None, 512, None, None)   2359808   \n",
      "_________________________________________________________________\n",
      "block5_conv2 (Conv2D)        (None, 512, None, None)   2359808   \n",
      "_________________________________________________________________\n",
      "block5_conv3 (Conv2D)        (None, 512, None, None)   2359808   \n",
      "_________________________________________________________________\n",
      "block5_pool (MaxPooling2D)   (None, 512, None, None)   0         \n",
      "=================================================================\n",
      "Total params: 14,714,688\n",
      "Trainable params: 14,714,688\n",
      "Non-trainable params: 0\n",
      "_________________________________________________________________\n"
     ]
    }
   ],
   "source": [
    "model_vgg.summary()"
   ]
  },
  {
   "cell_type": "code",
   "execution_count": 24,
   "metadata": {
    "collapsed": false
   },
   "outputs": [
    {
     "data": {
      "text/plain": [
       "6"
      ]
     },
     "execution_count": 24,
     "metadata": {},
     "output_type": "execute_result"
    }
   ],
   "source": [
    "epochs = 1\n",
    "train_samples = train_labels*7\n",
    "validation_samples = validation_labels*3\n",
    "validation_samples"
   ]
  },
  {
   "cell_type": "code",
   "execution_count": 25,
   "metadata": {
    "collapsed": true
   },
   "outputs": [],
   "source": [
    "bottleneck_features_train = model_vgg.predict_generator(train_generator,train_samples // batch_size)"
   ]
  },
  {
   "cell_type": "code",
   "execution_count": 26,
   "metadata": {
    "collapsed": true
   },
   "outputs": [],
   "source": [
    "np.save(open(path+\"/bottleneck_features_train.npy\",\"wb\"),bottleneck_features_train)"
   ]
  },
  {
   "cell_type": "code",
   "execution_count": 33,
   "metadata": {
    "collapsed": true
   },
   "outputs": [],
   "source": [
    "bottleneck_features_validation = model_vgg.predict_generator(valid_generator, validation_samples // batch_size)\n",
    "np.save(open(path+\"/bottleneck_features_validation.npy\",\"wb\"), bottleneck_features_validation)"
   ]
  },
  {
   "cell_type": "code",
   "execution_count": 50,
   "metadata": {
    "collapsed": true
   },
   "outputs": [],
   "source": [
    "train_data = np.load(open(path+\"/bottleneck_features_train.npy\",\"rb\"))\n",
    "b = []\n",
    "for x in range(len(nameOfClasses)):\n",
    "    for y in range(1,8):\n",
    "        b.append(x)\n",
    "train_labels = np.asarray(b)"
   ]
  },
  {
   "cell_type": "code",
   "execution_count": 51,
   "metadata": {
    "collapsed": false
   },
   "outputs": [],
   "source": [
    "valid_data = np.load(open(path+\"/bottleneck_features_validation.npy\",\"rb\"))\n",
    "c = []\n",
    "for x in range(len(nameOfClasses)):\n",
    "    for y in range(1,4):\n",
    "        c.append(x)\n",
    "validation_labels = np.asarray(c)"
   ]
  },
  {
   "cell_type": "code",
   "execution_count": 52,
   "metadata": {
    "collapsed": true
   },
   "outputs": [],
   "source": [
    "train_labels = np_utils.to_categorical(train_labels,len(nameOfClasses))\n",
    "validation_labels = np_utils.to_categorical(validation_labels, len(nameOfClasses))"
   ]
  },
  {
   "cell_type": "code",
   "execution_count": 53,
   "metadata": {
    "collapsed": false
   },
   "outputs": [
    {
     "data": {
      "text/plain": [
       "(14, 512, 4, 4)"
      ]
     },
     "execution_count": 53,
     "metadata": {},
     "output_type": "execute_result"
    }
   ],
   "source": [
    "train_data.shape"
   ]
  },
  {
   "cell_type": "code",
   "execution_count": 54,
   "metadata": {
    "collapsed": false
   },
   "outputs": [
    {
     "data": {
      "text/plain": [
       "(6, 512, 4, 4)"
      ]
     },
     "execution_count": 54,
     "metadata": {},
     "output_type": "execute_result"
    }
   ],
   "source": [
    "valid_data.shape"
   ]
  },
  {
   "cell_type": "code",
   "execution_count": 55,
   "metadata": {
    "collapsed": true
   },
   "outputs": [],
   "source": [
    "import matplotlib.pyplot as plt\n",
    "%matplotlib inline"
   ]
  },
  {
   "cell_type": "code",
   "execution_count": 56,
   "metadata": {
    "collapsed": true
   },
   "outputs": [],
   "source": [
    "temp = train_data[0]"
   ]
  },
  {
   "cell_type": "code",
   "execution_count": 57,
   "metadata": {
    "collapsed": false
   },
   "outputs": [
    {
     "data": {
      "text/plain": [
       "(512, 4, 4)"
      ]
     },
     "execution_count": 57,
     "metadata": {},
     "output_type": "execute_result"
    }
   ],
   "source": [
    "temp.shape"
   ]
  },
  {
   "cell_type": "code",
   "execution_count": 58,
   "metadata": {
    "collapsed": true
   },
   "outputs": [],
   "source": [
    "model_top = Sequential()\n",
    "model_top.add(Flatten(input_shape=train_data.shape[1:]))\n",
    "model_top.add(Dense(256, activation='relu'))\n",
    "model_top.add(Dropout(0.5))\n",
    "model_top.add(Dense(len(nameOfClasses), activation='softmax'))\n",
    "model_top.compile(optimizer='sgd', loss='categorical_crossentropy', metrics=['accuracy'])"
   ]
  },
  {
   "cell_type": "code",
   "execution_count": 59,
   "metadata": {
    "collapsed": false
   },
   "outputs": [
    {
     "name": "stdout",
     "output_type": "stream",
     "text": [
      "_________________________________________________________________\n",
      "Layer (type)                 Output Shape              Param #   \n",
      "=================================================================\n",
      "flatten_3 (Flatten)          (None, 8192)              0         \n",
      "_________________________________________________________________\n",
      "dense_5 (Dense)              (None, 256)               2097408   \n",
      "_________________________________________________________________\n",
      "dropout_3 (Dropout)          (None, 256)               0         \n",
      "_________________________________________________________________\n",
      "dense_6 (Dense)              (None, 2)                 514       \n",
      "=================================================================\n",
      "Total params: 2,097,922\n",
      "Trainable params: 2,097,922\n",
      "Non-trainable params: 0\n",
      "_________________________________________________________________\n"
     ]
    }
   ],
   "source": [
    "model_top.summary()"
   ]
  },
  {
   "cell_type": "code",
   "execution_count": 62,
   "metadata": {
    "collapsed": false
   },
   "outputs": [
    {
     "name": "stdout",
     "output_type": "stream",
     "text": [
      "Train on 14 samples, validate on 6 samples\n",
      "Epoch 1/30\n",
      "14/14 [==============================] - 0s - loss: 8.1139 - acc: 0.4286 - val_loss: 8.0590 - val_acc: 0.5000\n",
      "Epoch 2/30\n",
      "14/14 [==============================] - 0s - loss: 5.7565 - acc: 0.6429 - val_loss: 8.0590 - val_acc: 0.5000\n",
      "Epoch 3/30\n",
      "14/14 [==============================] - 0s - loss: 5.8050 - acc: 0.6429 - val_loss: 8.0590 - val_acc: 0.5000\n",
      "Epoch 4/30\n",
      "14/14 [==============================] - 0s - loss: 9.2603 - acc: 0.3571 - val_loss: 8.0590 - val_acc: 0.5000\n",
      "Epoch 5/30\n",
      "14/14 [==============================] - 0s - loss: 8.0874 - acc: 0.5000 - val_loss: 8.0590 - val_acc: 0.5000\n",
      "Epoch 6/30\n",
      "14/14 [==============================] - 0s - loss: 5.7565 - acc: 0.6429 - val_loss: 8.0590 - val_acc: 0.5000\n",
      "Epoch 7/30\n",
      "14/14 [==============================] - 0s - loss: 5.7565 - acc: 0.6429 - val_loss: 8.0590 - val_acc: 0.5000\n",
      "Epoch 8/30\n",
      "14/14 [==============================] - 0s - loss: 4.6052 - acc: 0.7143 - val_loss: 8.0590 - val_acc: 0.5000\n",
      "Epoch 9/30\n",
      "14/14 [==============================] - 0s - loss: 11.7191 - acc: 0.2143 - val_loss: 8.0590 - val_acc: 0.5000\n",
      "Epoch 10/30\n",
      "14/14 [==============================] - 0s - loss: 11.5129 - acc: 0.2857 - val_loss: 8.0590 - val_acc: 0.5000\n",
      "Epoch 11/30\n",
      "14/14 [==============================] - 0s - loss: 5.9003 - acc: 0.5714 - val_loss: 8.0590 - val_acc: 0.5000\n",
      "Epoch 12/30\n",
      "14/14 [==============================] - 0s - loss: 6.9577 - acc: 0.5000 - val_loss: 8.0590 - val_acc: 0.5000\n",
      "Epoch 13/30\n",
      "14/14 [==============================] - 0s - loss: 3.4983 - acc: 0.7857 - val_loss: 8.0590 - val_acc: 0.5000\n",
      "Epoch 14/30\n",
      "14/14 [==============================] - 0s - loss: 5.8034 - acc: 0.6429 - val_loss: 8.0590 - val_acc: 0.5000\n",
      "Epoch 15/30\n",
      "14/14 [==============================] - 0s - loss: 4.7972 - acc: 0.5714 - val_loss: 8.0590 - val_acc: 0.5000\n",
      "Epoch 16/30\n",
      "14/14 [==============================] - 0s - loss: 4.6532 - acc: 0.7143 - val_loss: 8.0590 - val_acc: 0.5000\n",
      "Epoch 17/30\n",
      "14/14 [==============================] - 0s - loss: 3.6161 - acc: 0.7143 - val_loss: 8.0590 - val_acc: 0.5000\n",
      "Epoch 18/30\n",
      "14/14 [==============================] - 0s - loss: 7.0029 - acc: 0.5714 - val_loss: 8.0590 - val_acc: 0.5000\n",
      "Epoch 19/30\n",
      "14/14 [==============================] - 0s - loss: 6.9903 - acc: 0.5000 - val_loss: 8.0590 - val_acc: 0.5000\n",
      "Epoch 20/30\n",
      "14/14 [==============================] - 0s - loss: 8.1376 - acc: 0.4286 - val_loss: 8.0590 - val_acc: 0.5000\n",
      "Epoch 21/30\n",
      "14/14 [==============================] - 0s - loss: 8.1075 - acc: 0.5000 - val_loss: 8.0590 - val_acc: 0.5000\n",
      "Epoch 22/30\n",
      "14/14 [==============================] - 0s - loss: 6.2657 - acc: 0.5000 - val_loss: 8.0590 - val_acc: 0.5000\n",
      "Epoch 23/30\n",
      "14/14 [==============================] - 0s - loss: 3.6054 - acc: 0.6429 - val_loss: 8.0590 - val_acc: 0.5000\n",
      "Epoch 24/30\n",
      "14/14 [==============================] - 0s - loss: 7.4176 - acc: 0.5000 - val_loss: 8.0590 - val_acc: 0.5000\n",
      "Epoch 25/30\n",
      "14/14 [==============================] - 0s - loss: 5.9636 - acc: 0.5000 - val_loss: 8.0590 - val_acc: 0.5000\n",
      "Epoch 26/30\n",
      "14/14 [==============================] - 0s - loss: 5.8673 - acc: 0.5000 - val_loss: 8.0590 - val_acc: 0.5000\n",
      "Epoch 27/30\n",
      "14/14 [==============================] - 0s - loss: 5.0250 - acc: 0.5000 - val_loss: 8.0590 - val_acc: 0.5000\n",
      "Epoch 28/30\n",
      "14/14 [==============================] - 0s - loss: 8.1050 - acc: 0.5000 - val_loss: 8.0590 - val_acc: 0.5000\n",
      "Epoch 29/30\n",
      "14/14 [==============================] - 0s - loss: 7.1045 - acc: 0.5000 - val_loss: 8.0590 - val_acc: 0.5000\n",
      "Epoch 30/30\n",
      "14/14 [==============================] - 0s - loss: 3.7216 - acc: 0.5000 - val_loss: 8.0590 - val_acc: 0.5000\n"
     ]
    },
    {
     "data": {
      "text/plain": [
       "<keras.callbacks.History at 0x7f0ecb606790>"
      ]
     },
     "execution_count": 62,
     "metadata": {},
     "output_type": "execute_result"
    }
   ],
   "source": [
    "model_top.fit(train_data, train_labels,\n",
    "            epochs=30,\n",
    "            batch_size=batch_size,\n",
    "            validation_data=(valid_data, validation_labels))"
   ]
  },
  {
   "cell_type": "code",
   "execution_count": 63,
   "metadata": {
    "collapsed": true
   },
   "outputs": [],
   "source": [
    "model_top.save_weights(path+'/Test_bottleneck_30_epochs.h5')"
   ]
  },
  {
   "cell_type": "code",
   "execution_count": 65,
   "metadata": {
    "collapsed": false
   },
   "outputs": [],
   "source": [
    "model_2 = applications.VGG16(weights='imagenet', include_top=False, input_shape=(3,150, 150))"
   ]
  },
  {
   "cell_type": "code",
   "execution_count": 71,
   "metadata": {
    "collapsed": false
   },
   "outputs": [
    {
     "data": {
      "text/plain": [
       "(None, 512, 4, 4)"
      ]
     },
     "execution_count": 71,
     "metadata": {},
     "output_type": "execute_result"
    }
   ],
   "source": [
    "model_2.output_shape"
   ]
  },
  {
   "cell_type": "code",
   "execution_count": 72,
   "metadata": {
    "collapsed": true
   },
   "outputs": [],
   "source": [
    "top_model = Sequential()\n",
    "top_model.add(Flatten(input_shape=model_2.output_shape[1:]))\n",
    "top_model.add(Dense(256, activation='relu'))\n",
    "top_model.add(Dropout(0.5))\n",
    "top_model.add(Dense(len(nameOfClasses), activation='softmax'))\n",
    "top_model.load_weights(path+'/Test_bottleneck_30_epochs.h5')"
   ]
  },
  {
   "cell_type": "code",
   "execution_count": 73,
   "metadata": {
    "collapsed": true
   },
   "outputs": [],
   "source": [
    "model = Model(inputs = model_2.input, outputs = top_model(model_2.output))"
   ]
  },
  {
   "cell_type": "code",
   "execution_count": 74,
   "metadata": {
    "collapsed": false
   },
   "outputs": [
    {
     "name": "stdout",
     "output_type": "stream",
     "text": [
      "_________________________________________________________________\n",
      "Layer (type)                 Output Shape              Param #   \n",
      "=================================================================\n",
      "input_2 (InputLayer)         (None, 3, 150, 150)       0         \n",
      "_________________________________________________________________\n",
      "block1_conv1 (Conv2D)        (None, 64, 150, 150)      1792      \n",
      "_________________________________________________________________\n",
      "block1_conv2 (Conv2D)        (None, 64, 150, 150)      36928     \n",
      "_________________________________________________________________\n",
      "block1_pool (MaxPooling2D)   (None, 64, 75, 75)        0         \n",
      "_________________________________________________________________\n",
      "block2_conv1 (Conv2D)        (None, 128, 75, 75)       73856     \n",
      "_________________________________________________________________\n",
      "block2_conv2 (Conv2D)        (None, 128, 75, 75)       147584    \n",
      "_________________________________________________________________\n",
      "block2_pool (MaxPooling2D)   (None, 128, 37, 37)       0         \n",
      "_________________________________________________________________\n",
      "block3_conv1 (Conv2D)        (None, 256, 37, 37)       295168    \n",
      "_________________________________________________________________\n",
      "block3_conv2 (Conv2D)        (None, 256, 37, 37)       590080    \n",
      "_________________________________________________________________\n",
      "block3_conv3 (Conv2D)        (None, 256, 37, 37)       590080    \n",
      "_________________________________________________________________\n",
      "block3_pool (MaxPooling2D)   (None, 256, 18, 18)       0         \n",
      "_________________________________________________________________\n",
      "block4_conv1 (Conv2D)        (None, 512, 18, 18)       1180160   \n",
      "_________________________________________________________________\n",
      "block4_conv2 (Conv2D)        (None, 512, 18, 18)       2359808   \n",
      "_________________________________________________________________\n",
      "block4_conv3 (Conv2D)        (None, 512, 18, 18)       2359808   \n",
      "_________________________________________________________________\n",
      "block4_pool (MaxPooling2D)   (None, 512, 9, 9)         0         \n",
      "_________________________________________________________________\n",
      "block5_conv1 (Conv2D)        (None, 512, 9, 9)         2359808   \n",
      "_________________________________________________________________\n",
      "block5_conv2 (Conv2D)        (None, 512, 9, 9)         2359808   \n",
      "_________________________________________________________________\n",
      "block5_conv3 (Conv2D)        (None, 512, 9, 9)         2359808   \n",
      "_________________________________________________________________\n",
      "block5_pool (MaxPooling2D)   (None, 512, 4, 4)         0         \n",
      "_________________________________________________________________\n",
      "sequential_4 (Sequential)    (None, 2)                 2097922   \n",
      "=================================================================\n",
      "Total params: 16,812,610\n",
      "Trainable params: 16,812,610\n",
      "Non-trainable params: 0\n",
      "_________________________________________________________________\n"
     ]
    }
   ],
   "source": [
    "model.summary()"
   ]
  },
  {
   "cell_type": "code",
   "execution_count": 75,
   "metadata": {
    "collapsed": true
   },
   "outputs": [],
   "source": [
    "for layer in model.layers[:15]:\n",
    "    layer.trainable = False"
   ]
  },
  {
   "cell_type": "code",
   "execution_count": 76,
   "metadata": {
    "collapsed": true
   },
   "outputs": [],
   "source": [
    "model.compile(loss='categorical_crossentropy',\n",
    "              optimizer=optimizers.SGD(lr=1e-4, momentum=0.9),\n",
    "              metrics=['accuracy'])"
   ]
  },
  {
   "cell_type": "code",
   "execution_count": 77,
   "metadata": {
    "collapsed": false
   },
   "outputs": [
    {
     "name": "stdout",
     "output_type": "stream",
     "text": [
      "Found 14 images belonging to 2 classes.\n",
      "Found 6 images belonging to 2 classes.\n"
     ]
    }
   ],
   "source": [
    "train_datagen = ImageDataGenerator(\n",
    "        rescale=1./255,\n",
    "        shear_range=0.2,\n",
    "        zoom_range=0.2,\n",
    "        horizontal_flip=True)\n",
    "\n",
    "test_datagen = ImageDataGenerator(rescale=1./255)\n",
    "\n",
    "train_generator = train_datagen.flow_from_directory(\n",
    "        train_data_dir,\n",
    "        target_size=(img_height, img_width),\n",
    "        batch_size=batch_size\n",
    "        )\n",
    "\n",
    "validation_generator = test_datagen.flow_from_directory(\n",
    "        validation_data_dir,\n",
    "        target_size=(img_height, img_width),\n",
    "        batch_size=batch_size\n",
    "        )"
   ]
  },
  {
   "cell_type": "code",
   "execution_count": 79,
   "metadata": {
    "collapsed": false
   },
   "outputs": [
    {
     "name": "stdout",
     "output_type": "stream",
     "text": [
      "Epoch 1/10\n",
      "14/14 [==============================] - 0s - loss: 5.8559 - acc: 0.5714 - val_loss: 5.3727 - val_acc: 0.6667\n",
      "Epoch 2/10\n",
      "14/14 [==============================] - 0s - loss: 8.1969 - acc: 0.5000 - val_loss: 8.0590 - val_acc: 0.5000\n",
      "Epoch 3/10\n",
      "14/14 [==============================] - 0s - loss: 3.7317 - acc: 0.7143 - val_loss: 8.0590 - val_acc: 0.5000\n",
      "Epoch 4/10\n",
      "14/14 [==============================] - 0s - loss: 4.8862 - acc: 0.5714 - val_loss: 5.3727 - val_acc: 0.6667\n",
      "Epoch 5/10\n",
      "14/14 [==============================] - 0s - loss: 5.9310 - acc: 0.5714 - val_loss: 5.3727 - val_acc: 0.6667\n",
      "Epoch 6/10\n",
      "14/14 [==============================] - 0s - loss: 5.9202 - acc: 0.5714 - val_loss: 8.0590 - val_acc: 0.5000\n",
      "Epoch 7/10\n",
      "14/14 [==============================] - 0s - loss: 10.4355 - acc: 0.2857 - val_loss: 8.0590 - val_acc: 0.5000\n",
      "Epoch 8/10\n",
      "14/14 [==============================] - 0s - loss: 4.7047 - acc: 0.6429 - val_loss: 10.7454 - val_acc: 0.3333\n",
      "Epoch 9/10\n",
      "14/14 [==============================] - 0s - loss: 9.3797 - acc: 0.3571 - val_loss: 5.3727 - val_acc: 0.6667\n",
      "Epoch 10/10\n",
      "14/14 [==============================] - 0s - loss: 7.0781 - acc: 0.5000 - val_loss: 10.7454 - val_acc: 0.3333\n"
     ]
    },
    {
     "data": {
      "text/plain": [
       "<keras.callbacks.History at 0x7f0ec32a8510>"
      ]
     },
     "execution_count": 79,
     "metadata": {},
     "output_type": "execute_result"
    }
   ],
   "source": [
    "model.fit_generator(\n",
    "    train_generator,\n",
    "    steps_per_epoch=train_samples // batch_size,\n",
    "    epochs=10,\n",
    "    validation_data=validation_generator,\n",
    "    validation_steps=validation_samples // batch_size)"
   ]
  },
  {
   "cell_type": "code",
   "execution_count": 80,
   "metadata": {
    "collapsed": true
   },
   "outputs": [],
   "source": [
    "model.save_weights(path+'/FinalStaticModel_30epochs_vgg.h5')"
   ]
  },
  {
   "cell_type": "code",
   "execution_count": 81,
   "metadata": {
    "collapsed": true
   },
   "outputs": [],
   "source": [
    "import glob\n",
    "import os\n",
    "from keras.preprocessing.image import ImageDataGenerator, array_to_img, img_to_array, load_img"
   ]
  },
  {
   "cell_type": "code",
   "execution_count": null,
   "metadata": {
    "collapsed": true
   },
   "outputs": [],
   "source": [
    "img = load_img(,False, (img_width, img_height))\n",
    "x = img_to_array(img)\n",
    "predictions = model.predict(x.reshape((1,img_width, img_height,3)))\n",
    "result = dict()\n",
    "i = 0\n",
    "for x in predictions.tolist()[0]:\n",
    "        result[nameOfClasses[i]] = round(x,4)\n",
    "        i+=1\n",
    "print(result)"
   ]
  },
  {
   "cell_type": "code",
   "execution_count": null,
   "metadata": {
    "collapsed": true
   },
   "outputs": [],
   "source": [
    "import glob\n",
    "import os\n",
    "from keras.preprocessing.image import ImageDataGenerator, array_to_img, img_to_array, load_img\n",
    "cwd = os.getcwd()\n",
    "fname = glob.glob(\"/home/ubuntu/modeldata/data/validation/volcanic eruption/////*.jpg\")\n",
    "for i in range(len(fname)):    \n",
    "    img = load_img(fname[i],False, (img_width, img_height))\n",
    "    x = img_to_array(img)\n",
    "    prediction = model.predict(x.reshape((1,img_width, img_height,3)),batch_size=32, verbose=0)          \n",
    "    result = dict()\n",
    "    i = 0\n",
    "    for x in prediction.tolist()[0]:\n",
    "            result[nameOfClasses[i]] = round(x,4)\n",
    "            i+=1\n",
    "    print(result)"
   ]
  }
 ],
 "metadata": {
  "anaconda-cloud": {},
  "kernelspec": {
   "display_name": "Python [conda root]",
   "language": "python",
   "name": "conda-root-py"
  },
  "language_info": {
   "codemirror_mode": {
    "name": "ipython",
    "version": 2
   },
   "file_extension": ".py",
   "mimetype": "text/x-python",
   "name": "python",
   "nbconvert_exporter": "python",
   "pygments_lexer": "ipython2",
   "version": "2.7.12"
  }
 },
 "nbformat": 4,
 "nbformat_minor": 1
}
